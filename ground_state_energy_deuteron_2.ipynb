{
 "cells": [
  {
   "attachments": {},
   "cell_type": "markdown",
   "metadata": {},
   "source": [
    "# Computational Physics - Exercise 2 (part 2/2)"
   ]
  },
  {
   "attachments": {},
   "cell_type": "markdown",
   "metadata": {},
   "source": [
    "In this section, we vary the value of $\\nu$ from $ 0.01 \\rm{fm^{-2}} $ to $ 0.49 \\rm{fm^{-2}} $ in steps of $ 0.01 \\rm{fm^{-2}} $ and with a fixed value of radial wave functions (30), in order to find the best value of $\\nu$. It turns out to be $ 0.11 \\pm 0.01 \\rm{fm^{-2}} $. This result is in agreement with the expected value of $\\nu = 0.11 \\pm 0.01 \\rm{fm^{-2}} $, obtained in the initial discussion. The only difference with respect to the previous code consists of adding the parameter $\\nu$ as a variable to all those functions which depend on it."
   ]
  },
  {
   "cell_type": "code",
   "execution_count": 1,
   "metadata": {},
   "outputs": [],
   "source": [
    "# Importiamo le librerie necessarie\n",
    "\n",
    "import numpy as np\n",
    "from scipy.integrate import quad\n",
    "import scipy.constants as sp\n",
    "import math\n",
    "from scipy.linalg import eigh\n",
    "from pylab import xlabel,ylabel\n",
    "import matplotlib.pyplot as plt\n",
    "from scipy import special"
   ]
  },
  {
   "cell_type": "code",
   "execution_count": 2,
   "metadata": {},
   "outputs": [],
   "source": [
    "# Dati iniziali\n",
    "\n",
    "hc = sp.hbar*sp.c*10**(28)/1.6022 # h*c tagliato in MeV*fm\n",
    "m_protone = 938.27; # in MeV/c^2\n",
    "m_neutrone = 939.57; # in MeV/c^2\n",
    "mu = m_protone * m_neutrone / (m_protone + m_neutrone)\n",
    "prefactor = hc**2 / (2*mu)\n",
    "M = 30 # number of radial wave functions\n"
   ]
  },
  {
   "cell_type": "code",
   "execution_count": 3,
   "metadata": {},
   "outputs": [],
   "source": [
    "# Polinomi di Hermite\n",
    "\n",
    "def He(x,n):\n",
    "    h0=1\n",
    "    if(n==0):\n",
    "        return h0\n",
    "    h1=2*x\n",
    "    if(n==1):\n",
    "        return h1\n",
    "    if(n>1):\n",
    "        for i in range(2,n+1):\n",
    "            h2=2*x*h1-2*(i-1)*h0\n",
    "            h0=h1\n",
    "            h1=h2\n",
    "        return h2"
   ]
  },
  {
   "cell_type": "code",
   "execution_count": 4,
   "metadata": {},
   "outputs": [],
   "source": [
    "# Fattore di normalizzazione\n",
    "\n",
    "def N(n,nu):\n",
    "    N_quadro = np.sqrt(2*nu/sp.pi) / (4**(n) * math.factorial(2*n+1))\n",
    "    N = np.sqrt(N_quadro)\n",
    "    return N"
   ]
  },
  {
   "cell_type": "code",
   "execution_count": 5,
   "metadata": {},
   "outputs": [],
   "source": [
    "# Funzioni d'onda radiali\n",
    "\n",
    "def R(r,n,nu):\n",
    "    x = np.sqrt(2*nu) * r\n",
    "    R = N(n,nu) * np.exp(- nu * r**2) * He(x,2*n+1) / r\n",
    "    return R"
   ]
  },
  {
   "cell_type": "code",
   "execution_count": 6,
   "metadata": {},
   "outputs": [],
   "source": [
    "# Derivate dei polinomi di Hermite\n",
    "\n",
    "def dHe(x,n):\n",
    "    if(n==0):\n",
    "        return 0\n",
    "    else:\n",
    "        H_prime = 2*n*He(x,n-1)\n",
    "        return H_prime\n",
    "\n",
    "def d2He(x,n):\n",
    "    if(n==0 or n==1):\n",
    "        return 0\n",
    "    else:\n",
    "        H_second = 4*n*(n-1)*He(x,n-2)\n",
    "        return H_second"
   ]
  },
  {
   "cell_type": "code",
   "execution_count": 7,
   "metadata": {},
   "outputs": [],
   "source": [
    "# Elementi di matrice dell'energia cinetica\n",
    "\n",
    "def kinetic_element(m,n,nu):\n",
    "    if (m == n-1):\n",
    "        risultato1 = (- prefactor) * nu * np.sqrt((2*m+2)*(2*m+3))\n",
    "        return risultato1\n",
    "    elif (m == n):\n",
    "        risultato2 = (+ prefactor) * nu * (4*m+3)\n",
    "        return risultato2\n",
    "    elif (m == n+1):\n",
    "        risultato3 = (- prefactor) * nu * np.sqrt(2*m*(2*m+1))\n",
    "        return risultato3\n",
    "    else:\n",
    "        return 0"
   ]
  },
  {
   "cell_type": "code",
   "execution_count": 8,
   "metadata": {},
   "outputs": [],
   "source": [
    "# Elementi di matrice dei termini nel potenziale\n",
    "\n",
    "def elementR(m,n,nu):\n",
    "    v0R = 200 # in MeV\n",
    "    kR = 1.487 # in fm^{-2}\n",
    "    roots, pesi = special.roots_hermite(2*M+2)\n",
    "    froots = (v0R/np.sqrt(2*nu+kR))*N(m,nu) * He(roots*np.sqrt(2*nu) / np.sqrt(2*nu+kR), 2*m+1)*N(n,nu)*He(roots*np.sqrt(2*nu) / np.sqrt(2*nu+kR),2*n+1)\n",
    "    risultato = np.dot(froots,pesi)/2\n",
    "    return risultato \n",
    "\n",
    "def elementS(m,n,nu):\n",
    "    v0S = 91.85 # in MeV\n",
    "    kS = 0.465 # in fm^{-2}\n",
    "    roots, pesi = special.roots_hermite(2*M+2)\n",
    "    froots = (-v0S/np.sqrt(2*nu+kS))*N(m,nu) * He(roots*np.sqrt(2*nu) / np.sqrt(2*nu+kS), 2*m+1)*N(n,nu)*He(roots*np.sqrt(2*nu) / np.sqrt(2*nu+kS),2*n+1)\n",
    "    risultato = np.dot(froots,pesi)/2\n",
    "    return risultato\n",
    "\n",
    "def elementT(m,n,nu):\n",
    "    v0T = 178 # in MeV\n",
    "    kT = 0.639 # in fm^{-2}\n",
    "    roots, pesi = special.roots_hermite(2*M+2)\n",
    "    froots = (-v0T/np.sqrt(2*nu+kT))*N(m,nu) * He(roots*np.sqrt(2*nu) / np.sqrt(2*nu+kT), 2*m+1)*N(n,nu)*He(roots*np.sqrt(2*nu) / np.sqrt(2*nu+kT),2*n+1)\n",
    "    risultato = np.dot(froots,pesi)/2\n",
    "    return risultato"
   ]
  },
  {
   "cell_type": "code",
   "execution_count": 9,
   "metadata": {},
   "outputs": [],
   "source": [
    "# Termini indipendenti nel potenziale\n",
    "\n",
    "def a_a(m,n,nu):\n",
    "    risultato = elementR(m,n,nu) + elementT(m,n,nu)\n",
    "    return risultato\n",
    "\n",
    "def b_b(m,n,nu):\n",
    "    risultato = elementR(m,n,nu) + 1/2 * elementT(m,n,nu) + 1/2 *elementS(m,n,nu)\n",
    "    return risultato\n",
    "\n",
    "def b_d(m,n,nu):\n",
    "    risultato = 1/2 * elementT(m,n,nu) - 1/2 *elementS(m,n,nu)\n",
    "    return risultato"
   ]
  },
  {
   "attachments": {},
   "cell_type": "markdown",
   "metadata": {},
   "source": [
    "Now, we save in \"ground_state\" the  ground state energy for each value of $\\nu$."
   ]
  },
  {
   "cell_type": "code",
   "execution_count": 10,
   "metadata": {},
   "outputs": [],
   "source": [
    "# Elementi di matrice dell'Hamiltoniana complessiva e diagonalizzazione\n",
    "\n",
    "O=50 # numero di valori di nu\n",
    "ground_state = np.zeros(O,float)  # energie dello stato fondamentale per i vari valori di nu\n",
    "nu = np.zeros(O,float)    \n",
    "\n",
    "for i in range(O):\n",
    "    nu[i] = 0.01 + i*0.01\n",
    "    block_kin = np.zeros([M,M],float) \n",
    "    block_aa = np.zeros([M,M],float) \n",
    "    block_bb = np.zeros([M,M],float) \n",
    "    block_bd = np.zeros([M,M],float)\n",
    "    block_H1 = np.zeros([M,M],float)\n",
    "    block_H2 = np.zeros([M,M],float)\n",
    "    block_H3 = np.zeros([M,M],float)\n",
    "    H_tot = np.zeros([4*M,4*M],float)\n",
    "\n",
    "    for m in range(M):\n",
    "        for n in range(M):\n",
    "            block_kin[m,n] += kinetic_element(m,n,nu[i])\n",
    "            block_aa[m,n] += a_a(m,n,nu[i])\n",
    "            block_bb[m,n] += b_b(m,n,nu[i])\n",
    "            block_bd[m,n] += b_d(m,n,nu[i])\n",
    "\n",
    "    for m in range(M):\n",
    "        for n in range(M):\n",
    "            block_H1[m,n] = block_kin[m,n] + block_aa[m,n]\n",
    "            block_H2[m,n] = block_kin[m,n] + block_bb[m,n]\n",
    "            block_H3[m,n] = block_bd[m,n]\n",
    "\n",
    "    for m in range(M):\n",
    "        for n in range(M):\n",
    "            H_tot[m,n] += block_H1[m,n]\n",
    "            H_tot[m+M,n+M] += block_H2[m,n]      \n",
    "            H_tot[m+2*M,n+2*M] += block_H1[m,n]    \n",
    "            H_tot[m+3*M,n+3*M] += block_H2[m,n]  \n",
    "            H_tot[m+3*M,n+M] += block_H3[m,n]  \n",
    "            H_tot[m+M,n+3*M] += block_H3[m,n]\n",
    "\n",
    "    H_tot_valori, H_tot_vettori = eigh(H_tot)\n",
    "\n",
    "    ground_state[i-1] += H_tot_valori[0]"
   ]
  },
  {
   "attachments": {},
   "cell_type": "markdown",
   "metadata": {},
   "source": [
    "Here we find the value of $\\nu$ which corresponds to the minimum energy value (and the minimum energy value itself) with a simple algorithm."
   ]
  },
  {
   "cell_type": "code",
   "execution_count": 11,
   "metadata": {},
   "outputs": [],
   "source": [
    "# Troviamo il minimo\n",
    "\n",
    "for i in range(O):\n",
    "    if(ground_state[i] < ground_state[i-1] and ground_state[i] < ground_state[i+1]):\n",
    "        min = i # contare a partire da 0\n",
    "\n",
    "punto_di_minimo = nu[min]\n",
    "valore_minimo = ground_state[min]"
   ]
  },
  {
   "attachments": {},
   "cell_type": "markdown",
   "metadata": {},
   "source": [
    "We plot the energy of ground state ($\\epsilon_{0}$) as function of $\\nu$. We find that $\\epsilon_{0}$ has a minimum for $\\nu=0.11 fm^{-2}$ and then increase."
   ]
  },
  {
   "cell_type": "code",
   "execution_count": 12,
   "metadata": {
    "tags": [
     "Variables"
    ]
   },
   "outputs": [
    {
     "data": {
      "image/png": "[encoded data removed]",
      "text/plain": [
       "<Figure size 800x600 with 1 Axes>"
      ]
     },
     "metadata": {},
     "output_type": "display_data"
    }
   ],
   "source": [
    "# Plot dell'energia dello stato fondamentale al variare di nu\n",
    "\n",
    "fig, x = plt.subplots(1, figsize=(8, 6))\n",
    "\n",
    "fig.suptitle('Ground state energy from variational principle', fontsize=15)\n",
    "\n",
    "x.scatter(nu[:O-1], ground_state[:O-1])\n",
    "\n",
    "xlabel (r'$\\nu$ [fm$^{-2}$]')\n",
    "ylabel (r'$\\varepsilon_{0}$ [MeV]')\n",
    "\n",
    "plt.show()"
   ]
  }
 ],
 "metadata": {
  "kernelspec": {
   "display_name": "Python 3",
   "language": "python",
   "name": "python3"
  },
  "language_info": {
   "codemirror_mode": {
    "name": "ipython",
    "version": 3
   },
   "file_extension": ".py",
   "mimetype": "text/x-python",
   "name": "python",
   "nbconvert_exporter": "python",
   "pygments_lexer": "ipython3",
   "version": "3.10.6"
  },
  "orig_nbformat": 4
 },
 "nbformat": 4,
 "nbformat_minor": 2
}
